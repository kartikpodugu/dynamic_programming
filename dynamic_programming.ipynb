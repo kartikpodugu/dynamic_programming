{
 "cells": [
  {
   "cell_type": "code",
   "execution_count": 22,
   "id": "df958833-436f-4112-a63f-8f74e70271c9",
   "metadata": {},
   "outputs": [],
   "source": [
    "import time"
   ]
  },
  {
   "cell_type": "code",
   "execution_count": 23,
   "id": "2e999ce4-2cd7-49a1-a0aa-5883aed7f95e",
   "metadata": {},
   "outputs": [],
   "source": [
    "def fibonacci_original(n):\n",
    "    if n<=1 :\n",
    "        return n\n",
    "    else:\n",
    "        return fibonacci_original(n-1) + fibonacci_original(n-2)"
   ]
  },
  {
   "cell_type": "code",
   "execution_count": 24,
   "id": "ddd2b274-9b2b-483a-872a-b7994285d9ab",
   "metadata": {},
   "outputs": [
    {
     "name": "stdout",
     "output_type": "stream",
     "text": [
      "9227465\n",
      "Time taken is 1.147751808166504 seconds\n"
     ]
    }
   ],
   "source": [
    "start = time.time()\n",
    "ans = fibonacci_original(35)\n",
    "end = time.time()\n",
    "print(ans)\n",
    "time_taken = end-start\n",
    "print(f\"Time taken is {time_taken} seconds\")\n"
   ]
  },
  {
   "cell_type": "code",
   "execution_count": 25,
   "id": "33cf5a34-9a66-4875-a474-2293065d354b",
   "metadata": {},
   "outputs": [],
   "source": [
    "def fibonacci_memoize(n, memory):\n",
    "    if memory[n] is not None:\n",
    "        return memory[n]\n",
    "    if n==1 or n==2:\n",
    "        result = 1\n",
    "    else:\n",
    "        result = fibonacci_memoize(n-1, memory) + fibonacci_memoize(n-2, memory)\n",
    "    memory[n] = result\n",
    "    return result\n",
    "    "
   ]
  },
  {
   "cell_type": "code",
   "execution_count": 26,
   "id": "a90edc08-b496-4345-98af-f2df96b45804",
   "metadata": {},
   "outputs": [
    {
     "name": "stdout",
     "output_type": "stream",
     "text": [
      "826311263657548150968574739472390353418611781757065697206426203593974708716828613929697980626588486583609093632603487008266728669172283421817413111434719546471589981408008786306185383992686157358938317783564650909368493312204584439790437326172321146043897594527080013456455033273878013259652074126626001894660000056002595927141188429298775941907405453024177278350272967759143079689432370386466749076170623141469998984745833739056312854229569382083952174049849188734106324649827022384274226503963478723950437487799324279997987853517136074556854872346864435318816400\n",
      "Time taken is 0.0010085105895996094 seconds\n"
     ]
    }
   ],
   "source": [
    "n = 2700\n",
    "memory = [None]*(n+1)\n",
    "start = time.time()\n",
    "ans = fibonacci_memoize(n, memory)\n",
    "end = time.time()\n",
    "print(ans)\n",
    "time_taken = end-start\n",
    "print(f\"Time taken is {time_taken} seconds\")\n"
   ]
  },
  {
   "cell_type": "code",
   "execution_count": null,
   "id": "76519cff-acff-4389-9858-3f154b7462c5",
   "metadata": {},
   "outputs": [],
   "source": []
  }
 ],
 "metadata": {
  "kernelspec": {
   "display_name": "Python 3 (ipykernel)",
   "language": "python",
   "name": "python3"
  },
  "language_info": {
   "codemirror_mode": {
    "name": "ipython",
    "version": 3
   },
   "file_extension": ".py",
   "mimetype": "text/x-python",
   "name": "python",
   "nbconvert_exporter": "python",
   "pygments_lexer": "ipython3",
   "version": "3.11.7"
  }
 },
 "nbformat": 4,
 "nbformat_minor": 5
}
