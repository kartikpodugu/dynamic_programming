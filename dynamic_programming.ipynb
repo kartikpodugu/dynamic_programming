{
 "cells": [
  {
   "cell_type": "markdown",
   "id": "4c5f5630-0d2f-4665-b15b-ab01cc9a866f",
   "metadata": {},
   "source": [
    "Pre Requisite: Please do not proceed before understanding recursion. Implement at least few problems using recursion like factorial before going ahead."
   ]
  },
  {
   "attachments": {},
   "cell_type": "markdown",
   "id": "1c833061-e275-4393-8b1b-e777226b0823",
   "metadata": {},
   "source": [
    "\n",
    "\n",
    "### Two properties of a dynamic programming problem \r\n",
    "| Sl No. | Property | Solution |\n",
    "| --- | --- | --- |\r\n",
    "1 | optimal substructure | solved using recursion |\n",
    "| 2 | overlapping sub problems | solving same sub problems can be avoided <br />by storing solutions of sub problems in <br />memory to reuse |y to reuse\r\n",
    "\r\n",
    "Problems like merge sort and quick sort don't fall under the category of dynamic programming because, though they have the property of optimal substructure, they don't have the property of overlapping problems. All the sub problems are non-overlapping, and so no more optimization can be done and the strategy they use to solve the problem is called as Divide and Conquer.\r\n",
    "\r\n",
    "2 approaches to solve dynamic programming problems\r\n",
    "\t1\tMemoization\tTop Down Approach\tdirect way of solving problem using recursion by breaking big problem into smaller problems, and then based on need solve the sub problems or reuse sub problem solutions already generated.\r\n",
    "\t2\tTabulation/Iteration\tBottom Up Approach\tafter solving problem using recursion, reformulate it such that you solve smallest problems and keep building to arrive at problems to bigger sub problems.\r\n",
    "\r\n",
    "Examples:\r\n",
    "\t1. Generating nth Fibonacci number - if we use dynamic programming, order of computations reduces from exponential to linear.\r\n",
    "\r\n",
    "Note: Not for all algorithms the order of computations reduces to linear, but for sure it will reduce, and reduction depends on amount of overlapping sub problems. \r\n",
    "\t\r\n"
   ]
  },
  {
   "cell_type": "code",
   "execution_count": null,
   "id": "f1212c71-b0ac-44ec-bb43-50a4143b8786",
   "metadata": {},
   "outputs": [],
   "source": [
    "import time"
   ]
  },
  {
   "cell_type": "markdown",
   "id": "3743a0ae-018f-46cf-9396-bb568fe3795d",
   "metadata": {},
   "source": [
    "Method fibonacci_original is implementation according to the definition of fibonacci numbers which uses plain recursion. \n",
    "Automatically, it involves recalculating of many values and so is inefficient."
   ]
  },
  {
   "cell_type": "code",
   "execution_count": 3,
   "id": "2e999ce4-2cd7-49a1-a0aa-5883aed7f95e",
   "metadata": {},
   "outputs": [],
   "source": [
    "def fibonacci_original(n):\n",
    "    if n<=1 :\n",
    "        return n\n",
    "    else:\n",
    "        return fibonacci_original(n-1) + fibonacci_original(n-2)"
   ]
  },
  {
   "cell_type": "code",
   "execution_count": null,
   "id": "26251671-8c56-40bb-b6cd-b77d56d24042",
   "metadata": {},
   "outputs": [],
   "source": [
    "start = time.time()\n",
    "ans = fibonacci_original(35)\n",
    "end = time.time()\n",
    "print(ans)\n",
    "time_taken = end-start\n",
    "print(f\"Time taken is {time_taken} seconds\")\n"
   ]
  },
  {
   "cell_type": "markdown",
   "id": "c9ebab6b-6d36-4a40-b934-588e33ca011a",
   "metadata": {},
   "source": [
    "Method fibonacci_memoize optimizes the calculations that are done unnecessarily again and again by adding memory and saving the results which are reused again when needed second time."
   ]
  },
  {
   "cell_type": "code",
   "execution_count": 5,
   "id": "33cf5a34-9a66-4875-a474-2293065d354b",
   "metadata": {},
   "outputs": [],
   "source": [
    "def fibonacci_memoize(n, memory):\n",
    "    if memory[n] is not None:\n",
    "        return memory[n]\n",
    "    if n==1 or n==2:\n",
    "        result = 1\n",
    "    else:\n",
    "        result = fibonacci_memoize(n-1, memory) + fibonacci_memoize(n-2, memory)\n",
    "    memory[n] = result\n",
    "    return result\n",
    "    "
   ]
  },
  {
   "cell_type": "code",
   "execution_count": 9,
   "id": "a90edc08-b496-4345-98af-f2df96b45804",
   "metadata": {},
   "outputs": [
    {
     "name": "stdout",
     "output_type": "stream",
     "text": [
      "826311263657548150968574739472390353418611781757065697206426203593974708716828613929697980626588486583609093632603487008266728669172283421817413111434719546471589981408008786306185383992686157358938317783564650909368493312204584439790437326172321146043897594527080013456455033273878013259652074126626001894660000056002595927141188429298775941907405453024177278350272967759143079689432370386466749076170623141469998984745833739056312854229569382083952174049849188734106324649827022384274226503963478723950437487799324279997987853517136074556854872346864435318816400\n",
      "Time taken is 0.001028299331665039 seconds\n"
     ]
    }
   ],
   "source": [
    "n = 2700\n",
    "memory = [None]*(n+1)\n",
    "start = time.time()\n",
    "ans = fibonacci_memoize(n, memory)\n",
    "end = time.time()\n",
    "print(ans)\n",
    "time_taken = end-start\n",
    "print(f\"Time taken is {time_taken} seconds\")\n"
   ]
  },
  {
   "cell_type": "markdown",
   "id": "888b7a96-1017-4f31-b5cb-0023dd88bf15",
   "metadata": {},
   "source": [
    "Method fibonacci_bottomup also uses memory for storing results which can be reused again, but instead of dividing the problem using recursion starting from n, it starts from 1 and gets to the value of n without using recursion at all. This approach is thus called as bottom up approach. This is the most efficient implementation of calculation of fibonacci numbers"
   ]
  },
  {
   "cell_type": "code",
   "execution_count": 7,
   "id": "76519cff-acff-4389-9858-3f154b7462c5",
   "metadata": {},
   "outputs": [],
   "source": [
    "def fibonacci_bottomup(n):\n",
    "    if(n==1 or n==2):\n",
    "        return 1\n",
    "    bottom_up = [0]*(n+1)\n",
    "    bottom_up[1] = 1\n",
    "    bottom_up[2] = 1\n",
    "    for i in range(3, n+1):\n",
    "        bottom_up[i] = bottom_up[i-1] + bottom_up[i-2]\n",
    "    return bottom_up[n]\n",
    "        "
   ]
  },
  {
   "cell_type": "code",
   "execution_count": 10,
   "id": "05251fd7-485f-406b-8ca4-1c9d335a5e85",
   "metadata": {},
   "outputs": [
    {
     "name": "stdout",
     "output_type": "stream",
     "text": [
      "826311263657548150968574739472390353418611781757065697206426203593974708716828613929697980626588486583609093632603487008266728669172283421817413111434719546471589981408008786306185383992686157358938317783564650909368493312204584439790437326172321146043897594527080013456455033273878013259652074126626001894660000056002595927141188429298775941907405453024177278350272967759143079689432370386466749076170623141469998984745833739056312854229569382083952174049849188734106324649827022384274226503963478723950437487799324279997987853517136074556854872346864435318816400\n",
      "Time taken is 0.0002110004425048828 seconds\n"
     ]
    }
   ],
   "source": [
    "start = time.time()\n",
    "ans = fibonacci_bottomup(2700)\n",
    "end = time.time()\n",
    "print(ans)\n",
    "time_taken = end-start\n",
    "print(f\"Time taken is {time_taken} seconds\")\n"
   ]
  },
  {
   "cell_type": "markdown",
   "id": "9c53d065-36ec-4043-a9c3-52677873a495",
   "metadata": {},
   "source": [
    "Referred to this video for understanding the concept of dynamic programming\n",
    "https://www.youtube.com/watch?v=vYquumk4nWw&t=4s\n",
    "\n",
    "Also read this article on GeeksforGeeks https://www.geeksforgeeks.org/dynamic-programming/\n",
    "This article also has many more problems that can be solved using the concept of dynamic programming."
   ]
  },
  {
   "cell_type": "code",
   "execution_count": null,
   "id": "ae82d72f-cde5-4f5f-a5fb-1fb18022f063",
   "metadata": {},
   "outputs": [],
   "source": []
  },
  {
   "cell_type": "code",
   "execution_count": null,
   "id": "d7ee06bb-4f6f-4d2b-8bae-4c08bb451f48",
   "metadata": {},
   "outputs": [],
   "source": []
  }
 ],
 "metadata": {
  "kernelspec": {
   "display_name": "Python 3 (ipykernel)",
   "language": "python",
   "name": "python3"
  },
  "language_info": {
   "codemirror_mode": {
    "name": "ipython",
    "version": 3
   },
   "file_extension": ".py",
   "mimetype": "text/x-python",
   "name": "python",
   "nbconvert_exporter": "python",
   "pygments_lexer": "ipython3",
   "version": "3.11.7"
  }
 },
 "nbformat": 4,
 "nbformat_minor": 5
}
